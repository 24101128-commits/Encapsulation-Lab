{
  "nbformat": 4,
  "nbformat_minor": 0,
  "metadata": {
    "colab": {
      "provenance": [],
      "authorship_tag": "ABX9TyPrYWA2cMWi0+in6foD7RLZ",
      "include_colab_link": true
    },
    "kernelspec": {
      "name": "python3",
      "display_name": "Python 3"
    },
    "language_info": {
      "name": "python"
    }
  },
  "cells": [
    {
      "cell_type": "markdown",
      "metadata": {
        "id": "view-in-github",
        "colab_type": "text"
      },
      "source": [
        "<a href=\"https://colab.research.google.com/github/24101128-commits/Encapsulation-Lab/blob/main/Encapsulation-Lab.pdf.ipynb\" target=\"_parent\"><img src=\"https://colab.research.google.com/assets/colab-badge.svg\" alt=\"Open In Colab\"/></a>"
      ]
    },
    {
      "cell_type": "code",
      "execution_count": 2,
      "metadata": {
        "colab": {
          "base_uri": "https://localhost:8080/"
        },
        "id": "wCS4YZRyl8Pi",
        "outputId": "86baa2bf-7e67-4ba4-ff31-745c0aa78c63"
      },
      "outputs": [
        {
          "output_type": "stream",
          "name": "stdout",
          "text": [
            "George\n",
            "36\n"
          ]
        }
      ],
      "source": [
        "class Person:\n",
        "  def __init__(self,name,age):\n",
        "    self.name=name\n",
        "    self.age=age\n",
        "\n",
        "  def get_name(self):\n",
        "    return self.name\n",
        "\n",
        "  def get_age(self):\n",
        "    return self.age\n",
        "\n",
        "person = Person(\"George\",36)\n",
        "print(person.get_name())\n",
        "print(person.get_age())"
      ]
    },
    {
      "cell_type": "code",
      "source": [
        "class EmailValidator:\n",
        "  def __init__(self,min_legth,mails,domains):\n",
        "    self.min_legth=min_legth\n",
        "    self.mails=mails\n",
        "    self.domains=domains\n",
        "  def __validate_name(self,name):\n",
        "    return len(name)>=self.min_legth\n",
        "  def __validate_mail(self,mail):\n",
        "    return mail in self.mails\n",
        "  def __validate_domain(self,domain):\n",
        "    return domain in self.domains\n",
        "\n",
        "  def validate(self,email_address):\n",
        "    try:\n",
        "      name,rest = email_address.split(\"@\")\n",
        "      mail,domain = rest.split(\".\")\n",
        "\n",
        "    except ValueError:\n",
        "      return False\n",
        "\n",
        "    return self.__validate_name(name) and self.__validate_mail(mail) and self.__validate_domain(domain)\n",
        "\n",
        "mails = [\"gmail\",\"softuni\"]\n",
        "domains = [\"com\",\"bg\"]\n",
        "email_validator = EmailValidator(6,mails,domains)\n",
        "print(email_validator.validate(\"pe77er@gmail.com\"))\n",
        "print(email_validator.validate(\"georgios@gmail.net\"))\n",
        "print(email_validator.validate(\"stamatito@abv.net\"))\n",
        "print(email_validator.validate(\"abv@softuni.bg\"))"
      ],
      "metadata": {
        "colab": {
          "base_uri": "https://localhost:8080/"
        },
        "id": "K9Fm0pGXm-Kj",
        "outputId": "ee76b580-0405-4d8a-c116-c3dfcf61e9ba"
      },
      "execution_count": 4,
      "outputs": [
        {
          "output_type": "stream",
          "name": "stdout",
          "text": [
            "True\n",
            "False\n",
            "False\n",
            "False\n"
          ]
        }
      ]
    },
    {
      "cell_type": "code",
      "source": [
        "class Mamma1:\n",
        "  __kingdom = \"animals\"\n",
        "  def __init__(self,name,type,sound):\n",
        "    self.name=name\n",
        "    self.type=type\n",
        "    self.sound=sound\n",
        "\n",
        "  def make_sound(self):\n",
        "    return f\"{self.name} makes {self.sound}\"\n",
        "\n",
        "  def get_kingdom(self):\n",
        "    return Mamma1.__kingdom\n",
        "\n",
        "  def info(self):\n",
        "    return f\"{self.name} is of type {self.type}\"\n",
        "\n",
        "mamma1 = Mamma1(\"Dog\", \"Domestic\", \"Bark\")\n",
        "print(mamma1.make_sound())\n",
        "print(mamma1.get_kingdom())\n",
        "print(mamma1.info())"
      ],
      "metadata": {
        "colab": {
          "base_uri": "https://localhost:8080/"
        },
        "id": "Rlvf5FaLsRx2",
        "outputId": "77c33ffc-55e2-4bcb-c743-5926a55fa7f8"
      },
      "execution_count": 6,
      "outputs": [
        {
          "output_type": "stream",
          "name": "stdout",
          "text": [
            "Dog makes Bark\n",
            "animals\n",
            "Dog is of type Domestic\n"
          ]
        }
      ]
    },
    {
      "cell_type": "code",
      "source": [
        "class Account:\n",
        "    def __init__(self,id,balance,pin):\n",
        "      self.id = id\n",
        "      self.balance = balance\n",
        "      self.pin = pin\n",
        "\n",
        "    def get_id(self,pin):\n",
        "      if pin == self.pin:\n",
        "        return self.id\n",
        "      return \"Wrong pin\"\n",
        "\n",
        "    def change_pin(self,old_pin,new_pin):\n",
        "      if old_pin == self.pin:\n",
        "        self.pin = new_pin\n",
        "        return \"Pin changed\"\n",
        "      return \"Wrong pin\"\n",
        "\n",
        "account = Account(8827312, 100, 3421)\n",
        "print(account.get_id(1111))\n",
        "print(account.get_id(3421))\n",
        "print(account.balance)\n",
        "print(account.change_pin(2212, 4321))\n",
        "print(account.change_pin(3421, 1234))\n",
        "\n"
      ],
      "metadata": {
        "colab": {
          "base_uri": "https://localhost:8080/"
        },
        "id": "y9tPHoMau4op",
        "outputId": "42908be4-b2c2-49ce-bf93-dad9df92e540"
      },
      "execution_count": 7,
      "outputs": [
        {
          "output_type": "stream",
          "name": "stdout",
          "text": [
            "Wrong pin\n",
            "8827312\n",
            "100\n",
            "Wrong pin\n",
            "Pin changed\n"
          ]
        }
      ]
    }
  ]
}